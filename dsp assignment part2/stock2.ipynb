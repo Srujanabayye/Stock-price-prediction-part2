{
 "cells": [
  {
   "cell_type": "code",
   "execution_count": 10,
   "id": "e683332e",
   "metadata": {},
   "outputs": [],
   "source": [
    "import numpy as np\n",
    "import matplotlib.pyplot as plt\n",
    "import pandas as pd"
   ]
  },
  {
   "cell_type": "code",
   "execution_count": 11,
   "id": "df291ee1",
   "metadata": {},
   "outputs": [],
   "source": [
    "url = 'https://raw.githubusercontent.com/mwitiderrick/stockprice/master/NSE-TATAGLOBAL.csv'\n",
    "dataset_train = pd.read_csv(url)\n",
    "training_set = dataset_train.iloc[:, 1:2].values"
   ]
  },
  {
   "cell_type": "code",
   "execution_count": 12,
   "id": "dfa521cc",
   "metadata": {},
   "outputs": [
    {
     "data": {
      "text/html": [
       "<div>\n",
       "<style scoped>\n",
       "    .dataframe tbody tr th:only-of-type {\n",
       "        vertical-align: middle;\n",
       "    }\n",
       "\n",
       "    .dataframe tbody tr th {\n",
       "        vertical-align: top;\n",
       "    }\n",
       "\n",
       "    .dataframe thead th {\n",
       "        text-align: right;\n",
       "    }\n",
       "</style>\n",
       "<table border=\"1\" class=\"dataframe\">\n",
       "  <thead>\n",
       "    <tr style=\"text-align: right;\">\n",
       "      <th></th>\n",
       "      <th>Date</th>\n",
       "      <th>Open</th>\n",
       "      <th>High</th>\n",
       "      <th>Low</th>\n",
       "      <th>Last</th>\n",
       "      <th>Close</th>\n",
       "      <th>Total Trade Quantity</th>\n",
       "      <th>Turnover (Lacs)</th>\n",
       "    </tr>\n",
       "  </thead>\n",
       "  <tbody>\n",
       "    <tr>\n",
       "      <th>0</th>\n",
       "      <td>2018-09-28</td>\n",
       "      <td>234.05</td>\n",
       "      <td>235.95</td>\n",
       "      <td>230.20</td>\n",
       "      <td>233.50</td>\n",
       "      <td>233.75</td>\n",
       "      <td>3069914</td>\n",
       "      <td>7162.35</td>\n",
       "    </tr>\n",
       "    <tr>\n",
       "      <th>1</th>\n",
       "      <td>2018-09-27</td>\n",
       "      <td>234.55</td>\n",
       "      <td>236.80</td>\n",
       "      <td>231.10</td>\n",
       "      <td>233.80</td>\n",
       "      <td>233.25</td>\n",
       "      <td>5082859</td>\n",
       "      <td>11859.95</td>\n",
       "    </tr>\n",
       "    <tr>\n",
       "      <th>2</th>\n",
       "      <td>2018-09-26</td>\n",
       "      <td>240.00</td>\n",
       "      <td>240.00</td>\n",
       "      <td>232.50</td>\n",
       "      <td>235.00</td>\n",
       "      <td>234.25</td>\n",
       "      <td>2240909</td>\n",
       "      <td>5248.60</td>\n",
       "    </tr>\n",
       "    <tr>\n",
       "      <th>3</th>\n",
       "      <td>2018-09-25</td>\n",
       "      <td>233.30</td>\n",
       "      <td>236.75</td>\n",
       "      <td>232.00</td>\n",
       "      <td>236.25</td>\n",
       "      <td>236.10</td>\n",
       "      <td>2349368</td>\n",
       "      <td>5503.90</td>\n",
       "    </tr>\n",
       "    <tr>\n",
       "      <th>4</th>\n",
       "      <td>2018-09-24</td>\n",
       "      <td>233.55</td>\n",
       "      <td>239.20</td>\n",
       "      <td>230.75</td>\n",
       "      <td>234.00</td>\n",
       "      <td>233.30</td>\n",
       "      <td>3423509</td>\n",
       "      <td>7999.55</td>\n",
       "    </tr>\n",
       "  </tbody>\n",
       "</table>\n",
       "</div>"
      ],
      "text/plain": [
       "         Date    Open    High     Low    Last   Close  Total Trade Quantity  \\\n",
       "0  2018-09-28  234.05  235.95  230.20  233.50  233.75               3069914   \n",
       "1  2018-09-27  234.55  236.80  231.10  233.80  233.25               5082859   \n",
       "2  2018-09-26  240.00  240.00  232.50  235.00  234.25               2240909   \n",
       "3  2018-09-25  233.30  236.75  232.00  236.25  236.10               2349368   \n",
       "4  2018-09-24  233.55  239.20  230.75  234.00  233.30               3423509   \n",
       "\n",
       "   Turnover (Lacs)  \n",
       "0          7162.35  \n",
       "1         11859.95  \n",
       "2          5248.60  \n",
       "3          5503.90  \n",
       "4          7999.55  "
      ]
     },
     "execution_count": 12,
     "metadata": {},
     "output_type": "execute_result"
    }
   ],
   "source": [
    "dataset_train.head()"
   ]
  },
  {
   "cell_type": "code",
   "execution_count": 13,
   "id": "b6c9377f",
   "metadata": {},
   "outputs": [],
   "source": [
    "from sklearn.preprocessing import MinMaxScaler\n",
    "sc = MinMaxScaler(feature_range=(0,1))\n",
    "training_set_scaled = sc.fit_transform(training_set)"
   ]
  },
  {
   "cell_type": "code",
   "execution_count": 14,
   "id": "f4666412",
   "metadata": {},
   "outputs": [],
   "source": [
    "X_train = []\n",
    "y_train = []\n",
    "for i in range(60, 2035):\n",
    "    X_train.append(training_set_scaled[i-60:i, 0])\n",
    "    y_train.append(training_set_scaled[i, 0])\n",
    "X_train, y_train = np.array(X_train), np.array(y_train)\n",
    "X_train = np.reshape(X_train, (X_train.shape[0], X_train.shape[1], 1))"
   ]
  },
  {
   "cell_type": "code",
   "execution_count": 15,
   "id": "784293b1",
   "metadata": {},
   "outputs": [],
   "source": [
    "from keras.models import Sequential\n",
    "from keras.layers import LSTM\n",
    "from keras.layers import Dropout\n",
    "from keras.layers import Dense"
   ]
  },
  {
   "cell_type": "code",
   "execution_count": 16,
   "id": "251326ed",
   "metadata": {},
   "outputs": [
    {
     "name": "stdout",
     "output_type": "stream",
     "text": [
      "Epoch 1/100\n",
      "62/62 [==============================] - 41s 198ms/step - loss: 0.0097\n",
      "Epoch 2/100\n",
      "62/62 [==============================] - 12s 195ms/step - loss: 0.0032\n",
      "Epoch 3/100\n",
      "62/62 [==============================] - 13s 211ms/step - loss: 0.0033\n",
      "Epoch 4/100\n",
      "62/62 [==============================] - 13s 205ms/step - loss: 0.0026\n",
      "Epoch 5/100\n",
      "62/62 [==============================] - 12s 197ms/step - loss: 0.0022\n",
      "Epoch 6/100\n",
      "62/62 [==============================] - 12s 199ms/step - loss: 0.0021\n",
      "Epoch 7/100\n",
      "62/62 [==============================] - 12s 192ms/step - loss: 0.0019\n",
      "Epoch 8/100\n",
      "62/62 [==============================] - 12s 196ms/step - loss: 0.0021\n",
      "Epoch 9/100\n",
      "62/62 [==============================] - 16s 260ms/step - loss: 0.0023\n",
      "Epoch 10/100\n",
      "62/62 [==============================] - 14s 223ms/step - loss: 0.0020\n",
      "Epoch 11/100\n",
      "62/62 [==============================] - 13s 203ms/step - loss: 0.0018\n",
      "Epoch 12/100\n",
      "62/62 [==============================] - 13s 211ms/step - loss: 0.0018\n",
      "Epoch 13/100\n",
      "62/62 [==============================] - 13s 213ms/step - loss: 0.0021\n",
      "Epoch 14/100\n",
      "62/62 [==============================] - 14s 227ms/step - loss: 0.0017\n",
      "Epoch 15/100\n",
      "62/62 [==============================] - 13s 209ms/step - loss: 0.0017\n",
      "Epoch 16/100\n",
      "62/62 [==============================] - 14s 219ms/step - loss: 0.0014\n",
      "Epoch 17/100\n",
      "62/62 [==============================] - 13s 211ms/step - loss: 0.0016\n",
      "Epoch 18/100\n",
      "62/62 [==============================] - 14s 219ms/step - loss: 0.0014\n",
      "Epoch 19/100\n",
      "62/62 [==============================] - 13s 209ms/step - loss: 0.0013\n",
      "Epoch 20/100\n",
      "62/62 [==============================] - 13s 211ms/step - loss: 0.0013\n",
      "Epoch 21/100\n",
      "62/62 [==============================] - 13s 217ms/step - loss: 0.0013\n",
      "Epoch 22/100\n",
      "62/62 [==============================] - 14s 224ms/step - loss: 0.0014\n",
      "Epoch 23/100\n",
      "62/62 [==============================] - 13s 212ms/step - loss: 0.0014\n",
      "Epoch 24/100\n",
      "62/62 [==============================] - 13s 217ms/step - loss: 0.0012\n",
      "Epoch 25/100\n",
      "62/62 [==============================] - 13s 208ms/step - loss: 0.0013\n",
      "Epoch 26/100\n",
      "62/62 [==============================] - 13s 210ms/step - loss: 0.0012\n",
      "Epoch 27/100\n",
      "62/62 [==============================] - 13s 210ms/step - loss: 0.0012\n",
      "Epoch 28/100\n",
      "62/62 [==============================] - 14s 219ms/step - loss: 0.0012\n",
      "Epoch 29/100\n",
      "62/62 [==============================] - 13s 207ms/step - loss: 0.0012\n",
      "Epoch 30/100\n",
      "62/62 [==============================] - 13s 216ms/step - loss: 0.0013\n",
      "Epoch 31/100\n",
      "62/62 [==============================] - 13s 210ms/step - loss: 0.0010\n",
      "Epoch 32/100\n",
      "62/62 [==============================] - 13s 210ms/step - loss: 0.0010\n",
      "Epoch 33/100\n",
      "62/62 [==============================] - 13s 214ms/step - loss: 0.0011\n",
      "Epoch 34/100\n",
      "62/62 [==============================] - 15s 250ms/step - loss: 0.0012\n",
      "Epoch 35/100\n",
      "62/62 [==============================] - 13s 216ms/step - loss: 0.0011\n",
      "Epoch 36/100\n",
      "62/62 [==============================] - 13s 212ms/step - loss: 9.9157e-04\n",
      "Epoch 37/100\n",
      "62/62 [==============================] - 13s 209ms/step - loss: 8.6637e-04\n",
      "Epoch 38/100\n",
      "62/62 [==============================] - 13s 210ms/step - loss: 9.0699e-04\n",
      "Epoch 39/100\n",
      "62/62 [==============================] - 13s 216ms/step - loss: 9.2723e-04\n",
      "Epoch 40/100\n",
      "62/62 [==============================] - 14s 232ms/step - loss: 9.5512e-04\n",
      "Epoch 41/100\n",
      "62/62 [==============================] - 13s 211ms/step - loss: 9.4951e-04\n",
      "Epoch 42/100\n",
      "62/62 [==============================] - 13s 210ms/step - loss: 0.0010\n",
      "Epoch 43/100\n",
      "62/62 [==============================] - 13s 210ms/step - loss: 8.0715e-04\n",
      "Epoch 44/100\n",
      "62/62 [==============================] - 13s 209ms/step - loss: 8.4790e-04\n",
      "Epoch 45/100\n",
      "62/62 [==============================] - 13s 217ms/step - loss: 9.0021e-04\n",
      "Epoch 46/100\n",
      "62/62 [==============================] - 13s 209ms/step - loss: 0.0010\n",
      "Epoch 47/100\n",
      "62/62 [==============================] - 13s 208ms/step - loss: 8.2262e-04\n",
      "Epoch 48/100\n",
      "62/62 [==============================] - 13s 211ms/step - loss: 7.6038e-04\n",
      "Epoch 49/100\n",
      "62/62 [==============================] - 13s 207ms/step - loss: 7.9962e-04\n",
      "Epoch 50/100\n",
      "62/62 [==============================] - 13s 210ms/step - loss: 7.5629e-04\n",
      "Epoch 51/100\n",
      "62/62 [==============================] - 13s 209ms/step - loss: 8.6974e-04\n",
      "Epoch 52/100\n",
      "62/62 [==============================] - 13s 209ms/step - loss: 6.9178e-04\n",
      "Epoch 53/100\n",
      "62/62 [==============================] - 13s 209ms/step - loss: 7.8268e-04\n",
      "Epoch 54/100\n",
      "62/62 [==============================] - 13s 208ms/step - loss: 9.0892e-04\n",
      "Epoch 55/100\n",
      "62/62 [==============================] - 13s 211ms/step - loss: 7.6658e-04\n",
      "Epoch 56/100\n",
      "62/62 [==============================] - 13s 212ms/step - loss: 7.4754e-04\n",
      "Epoch 57/100\n",
      "62/62 [==============================] - 14s 228ms/step - loss: 8.1875e-04\n",
      "Epoch 58/100\n",
      "62/62 [==============================] - 13s 216ms/step - loss: 7.0927e-04\n",
      "Epoch 59/100\n",
      " 7/62 [==>...........................] - ETA: 12s - loss: 9.9660e-04"
     ]
    },
    {
     "name": "stderr",
     "output_type": "stream",
     "text": [
      "\n",
      "KeyboardInterrupt\n",
      "\n"
     ]
    }
   ],
   "source": [
    "model = Sequential()\n",
    "model.add(LSTM(units=50,return_sequences=True,input_shape=(X_train.shape[1], 1)))\n",
    "model.add(Dropout(0.2))\n",
    "model.add(LSTM(units=50,return_sequences=True))\n",
    "model.add(Dropout(0.2))\n",
    "model.add(LSTM(units=50,return_sequences=True))\n",
    "model.add(Dropout(0.2))\n",
    "model.add(LSTM(units=50))\n",
    "model.add(Dropout(0.2))\n",
    "model.add(Dense(units=1))\n",
    "model.compile(optimizer='adam',loss='mean_squared_error')\n",
    "model.fit(X_train,y_train,epochs=100,batch_size=32)"
   ]
  },
  {
   "cell_type": "code",
   "execution_count": 17,
   "id": "c0a91de9",
   "metadata": {},
   "outputs": [],
   "source": [
    "url = 'https://raw.githubusercontent.com/mwitiderrick/stockprice/master/tatatest.csv'\n",
    "dataset_test = pd.read_csv(url)\n",
    "real_stock_price = dataset_test.iloc[:, 1:2].values"
   ]
  },
  {
   "cell_type": "code",
   "execution_count": 19,
   "id": "a5f0e8d6",
   "metadata": {},
   "outputs": [
    {
     "name": "stdout",
     "output_type": "stream",
     "text": [
      "1/1 [==============================] - 5s 5s/step\n"
     ]
    }
   ],
   "source": [
    "dataset_total = pd.concat((dataset_train['Open'], dataset_test['Open']), axis = 0)\n",
    "inputs = dataset_total[len(dataset_total) - len(dataset_test) - 60:].values\n",
    "inputs = inputs.reshape(-1,1)\n",
    "inputs = sc.transform(inputs)\n",
    "X_test = []\n",
    "for i in range(60, 76):\n",
    "    X_test.append(inputs[i-60:i, 0])\n",
    "X_test = np.array(X_test)\n",
    "X_test = np.reshape(X_test, (X_test.shape[0], X_test.shape[1], 1))\n",
    "predicted_stock_price = model.predict(X_test)\n",
    "predicted_stock_price = sc.inverse_transform(predicted_stock_price)"
   ]
  },
  {
   "cell_type": "code",
   "execution_count": 20,
   "id": "2f861be9",
   "metadata": {},
   "outputs": [
    {
     "data": {
      "image/png": "[encoded data removed]",
      "text/plain": [
       "<Figure size 432x288 with 1 Axes>"
      ]
     },
     "metadata": {
      "needs_background": "light"
     },
     "output_type": "display_data"
    }
   ],
   "source": [
    "plt.plot(real_stock_price, color = 'black', label = 'TATA Stock Price')\n",
    "plt.plot(predicted_stock_price, color = 'green', label = 'Predicted TATA Stock Price')\n",
    "plt.title('TATA Stock Price Prediction')\n",
    "plt.xlabel('Time')\n",
    "plt.ylabel('TATA Stock Price')\n",
    "plt.legend()\n",
    "plt.show()"
   ]
  },
  {
   "cell_type": "code",
   "execution_count": null,
   "id": "e04eeaae",
   "metadata": {},
   "outputs": [],
   "source": []
  }
 ],
 "metadata": {
  "kernelspec": {
   "display_name": "Python 3 (ipykernel)",
   "language": "python",
   "name": "python3"
  },
  "language_info": {
   "codemirror_mode": {
    "name": "ipython",
    "version": 3
   },
   "file_extension": ".py",
   "mimetype": "text/x-python",
   "name": "python",
   "nbconvert_exporter": "python",
   "pygments_lexer": "ipython3",
   "version": "3.9.12"
  }
 },
 "nbformat": 4,
 "nbformat_minor": 5
}
